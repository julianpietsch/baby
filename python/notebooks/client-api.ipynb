{
 "cells": [
  {
   "cell_type": "code",
   "execution_count": 1,
   "id": "f8197275-c6ff-4c3f-b814-a369a9c83203",
   "metadata": {},
   "outputs": [],
   "source": [
    "import requests\n",
    "baby_url = 'http://0.0.0.0:5101' # URL to reach baby-phone"
   ]
  },
  {
   "cell_type": "markdown",
   "id": "75f2c726-9df9-4f32-b117-bf218c234111",
   "metadata": {},
   "source": [
    "## Check version of the BABY server"
   ]
  },
  {
   "cell_type": "code",
   "execution_count": 2,
   "id": "10a5e2c2-909f-44a2-9eef-f9788a827f6d",
   "metadata": {},
   "outputs": [
    {
     "data": {
      "text/plain": [
       "{'baby': 'v0.30.7'}"
      ]
     },
     "execution_count": 2,
     "metadata": {},
     "output_type": "execute_result"
    }
   ],
   "source": [
    "r = requests.get(baby_url)\n",
    "r.json() if r.ok else r.text"
   ]
  },
  {
   "cell_type": "markdown",
   "id": "3c39be17-0f35-4527-9d65-29a2266e615c",
   "metadata": {},
   "source": [
    "## Check which models are available"
   ]
  },
  {
   "cell_type": "markdown",
   "id": "a98f3ba0-dea2-4e8c-a702-f97d6df4f70d",
   "metadata": {},
   "source": [
    "### Summary"
   ]
  },
  {
   "cell_type": "code",
   "execution_count": 3,
   "id": "c11e2d6d-29f2-4c3e-8ad6-0717e15eb9a2",
   "metadata": {},
   "outputs": [
    {
     "data": {
      "text/plain": [
       "['ecoli-mothermachine-phase-EMCCD-100x-1z',\n",
       " 'yeast-alcatras-brightfield-sCMOS-60x-5z',\n",
       " 'yeast-alcatras-brightfield-EMCCD-60x-1z',\n",
       " 'ecoli-mothermachine-phase-sCMOS-100x-1z',\n",
       " 'yeast-alcatras-brightfield-sCMOS-60x-1z',\n",
       " 'yeast-alcatras-brightfield-EMCCD-60x-5z',\n",
       " 'yeast-alcatras-brightfield-sCMOS-60x-3z',\n",
       " 'yeast-microcol-brightfield-sCMOS-100x-1z',\n",
       " 'yeast-alcatras-brightfield-EMCCD-60x-3z',\n",
       " 'example-modelset-yeast-alcatras-brightfield-EMCCD-60x-5z']"
      ]
     },
     "execution_count": 3,
     "metadata": {},
     "output_type": "execute_result"
    }
   ],
   "source": [
    "r = requests.get(baby_url + '/models')\n",
    "r.json() if r.ok else r.text"
   ]
  },
  {
   "cell_type": "markdown",
   "id": "31f9e3a4-0ca3-4c7b-93ae-48e3876974c1",
   "metadata": {},
   "source": [
    "### Including additional meta data"
   ]
  },
  {
   "cell_type": "code",
   "execution_count": 4,
   "id": "14d94982-2b52-4255-ae2b-0cb3f2847650",
   "metadata": {},
   "outputs": [
    {
     "data": {
      "text/plain": [
       "{'ecoli-mothermachine-phase-EMCCD-100x-1z': {'species': 'ecoli',\n",
       "  'device': 'mothermachine',\n",
       "  'channel': 'phase',\n",
       "  'camera': 'EMCCD',\n",
       "  'optical_zoom': 100,\n",
       "  'z_sections': 1,\n",
       "  'pixel_size': 0.08},\n",
       " 'yeast-alcatras-brightfield-sCMOS-60x-5z': {'species': 'yeast',\n",
       "  'device': 'alcatras',\n",
       "  'channel': 'brightfield',\n",
       "  'camera': 'sCMOS',\n",
       "  'optical_zoom': 60,\n",
       "  'z_sections': 5,\n",
       "  'pixel_size': 0.182},\n",
       " 'yeast-alcatras-brightfield-EMCCD-60x-1z': {'species': 'yeast',\n",
       "  'device': 'alcatras',\n",
       "  'channel': 'brightfield',\n",
       "  'camera': 'EMCCD',\n",
       "  'optical_zoom': 60,\n",
       "  'z_sections': 1,\n",
       "  'pixel_size': 0.263},\n",
       " 'ecoli-mothermachine-phase-sCMOS-100x-1z': {'species': 'ecoli',\n",
       "  'device': 'mothermachine',\n",
       "  'channel': 'phase',\n",
       "  'camera': 'sCMOS',\n",
       "  'optical_zoom': 100,\n",
       "  'z_sections': 1,\n",
       "  'pixel_size': 0.065},\n",
       " 'yeast-alcatras-brightfield-sCMOS-60x-1z': {'species': 'yeast',\n",
       "  'device': 'alcatras',\n",
       "  'channel': 'brightfield',\n",
       "  'camera': 'sCMOS',\n",
       "  'optical_zoom': 60,\n",
       "  'z_sections': 1,\n",
       "  'pixel_size': 0.182},\n",
       " 'yeast-alcatras-brightfield-EMCCD-60x-5z': {'species': 'yeast',\n",
       "  'device': 'alcatras',\n",
       "  'channel': 'brightfield',\n",
       "  'camera': 'EMCCD',\n",
       "  'optical_zoom': 60,\n",
       "  'z_sections': 5,\n",
       "  'pixel_size': 0.263},\n",
       " 'yeast-alcatras-brightfield-sCMOS-60x-3z': {'species': 'yeast',\n",
       "  'device': 'alcatras',\n",
       "  'channel': 'brightfield',\n",
       "  'camera': 'sCMOS',\n",
       "  'optical_zoom': 60,\n",
       "  'z_sections': 3,\n",
       "  'pixel_size': 0.182},\n",
       " 'yeast-microcol-brightfield-sCMOS-100x-1z': {'species': 'yeast',\n",
       "  'device': 'microcol',\n",
       "  'channel': 'brightfield',\n",
       "  'camera': 'sCMOS',\n",
       "  'optical_zoom': 100,\n",
       "  'z_sections': 1,\n",
       "  'pixel_size': 0.118},\n",
       " 'yeast-alcatras-brightfield-EMCCD-60x-3z': {'species': 'yeast',\n",
       "  'device': 'alcatras',\n",
       "  'channel': 'brightfield',\n",
       "  'camera': 'EMCCD',\n",
       "  'optical_zoom': 60,\n",
       "  'z_sections': 3,\n",
       "  'pixel_size': 0.263},\n",
       " 'example-modelset-yeast-alcatras-brightfield-EMCCD-60x-5z': {'species': 'yeast',\n",
       "  'device': 'alcatras',\n",
       "  'channel': 'brightfield',\n",
       "  'camera': 'sCMOS',\n",
       "  'optical_zoom': 60,\n",
       "  'z_sections': 5,\n",
       "  'pixel_size': 0.182}}"
      ]
     },
     "execution_count": 4,
     "metadata": {},
     "output_type": "execute_result"
    }
   ],
   "source": [
    "r = requests.get(baby_url + '/models?meta=true')\n",
    "r.json() if r.ok else r.text"
   ]
  },
  {
   "cell_type": "markdown",
   "id": "9f380b35-0171-40c0-aa0d-44e86feba135",
   "metadata": {},
   "source": [
    "## Start a new session"
   ]
  },
  {
   "cell_type": "code",
   "execution_count": 5,
   "id": "23ac657e-9c08-4934-965f-4f80643a2b3c",
   "metadata": {},
   "outputs": [
    {
     "data": {
      "text/plain": [
       "{'sessionid': '1af33e88-b53f-4bbd-ac11-bfad38e696e5'}"
      ]
     },
     "metadata": {},
     "output_type": "display_data"
    }
   ],
   "source": [
    "modelset = 'yeast-alcatras-brightfield-sCMOS-60x-1z'\n",
    "r = requests.get(f'{baby_url}/session/{modelset}')\n",
    "if not r.ok:\n",
    "    raise Exception(f\"{r.status_code}: {r.text}\")\n",
    "display(r.json())\n",
    "session_id = r.json()['sessionid']"
   ]
  },
  {
   "cell_type": "markdown",
   "id": "ee69c22c-609f-4f67-a920-3af198d0fe96",
   "metadata": {},
   "source": [
    "## List running sessions"
   ]
  },
  {
   "cell_type": "code",
   "execution_count": 6,
   "id": "5f23c521-bd0d-492d-8f96-31d7fafb1e52",
   "metadata": {},
   "outputs": [
    {
     "data": {
      "text/plain": [
       "[{'id': '1af33e88-b53f-4bbd-ac11-bfad38e696e5',\n",
       "  'model_name': 'yeast-alcatras-brightfield-sCMOS-60x-1z',\n",
       "  'runner': 'pending'}]"
      ]
     },
     "execution_count": 6,
     "metadata": {},
     "output_type": "execute_result"
    }
   ],
   "source": [
    "r = requests.get(baby_url + '/sessions')\n",
    "r.json() if r.ok else r.text"
   ]
  },
  {
   "cell_type": "markdown",
   "id": "437ede55-7774-4fe8-9d07-8cad01069c6e",
   "metadata": {},
   "source": [
    "## Send an image to the server"
   ]
  },
  {
   "cell_type": "code",
   "execution_count": 7,
   "id": "8764f92f-a91c-4fa1-b928-a3f8091083b9",
   "metadata": {},
   "outputs": [
    {
     "data": {
      "text/plain": [
       "{'status': 'processing 2 trap images'}"
      ]
     },
     "execution_count": 7,
     "metadata": {},
     "output_type": "execute_result"
    }
   ],
   "source": [
    "import numpy as np\n",
    "rng = np.random.default_rng(42)\n",
    "\n",
    "# Create suitable N x H x W x Z array\n",
    "# dtype must be either uint8 or uint16\n",
    "img = rng.integers(2**8, size=(2, 80, 120, 1), dtype='uint8')\n",
    "\n",
    "# Initiate a multipart-encoded request\n",
    "r = requests.post(f'{baby_url}/segment?sessionid={session_id}',\n",
    "                  files=[\n",
    "                      # The ordering of these parts must be fixed\n",
    "                      ('dims', ('', str(list(img.shape)))),\n",
    "                      ('bitdepth', ('', '8')),\n",
    "                      ('img', ('', img.tobytes(order='F'))),\n",
    "                      # Optionally specify additional parts that set\n",
    "                      # any kwargs accepted by BabyCrawler.step (ordering\n",
    "                      # is no longer fixed)\n",
    "                      ('refine_outlines', ('', 'true')),\n",
    "                  ])\n",
    "\n",
    "r.json() if r.ok else r.text"
   ]
  },
  {
   "cell_type": "markdown",
   "id": "34fb3bc0-173b-4aad-be0d-860ab0efa070",
   "metadata": {},
   "source": [
    "*NB: To run the following, `baby-phone` should have been started in debug mode (`baby-phone --debug-mode`) in a subfolder named `baby-phone-debugging`.*"
   ]
  },
  {
   "cell_type": "code",
   "execution_count": 8,
   "id": "6f054819-d3df-45fe-b31f-f7989516c487",
   "metadata": {},
   "outputs": [
    {
     "data": {
      "text/plain": [
       "((80, 120, 1),\n",
       " dtype('uint8'),\n",
       " {'sessionid': '1af33e88-b53f-4bbd-ac11-bfad38e696e5',\n",
       "  'refine_outlines': True,\n",
       "  'tilesize': [80, 120],\n",
       "  'ntiles': 1,\n",
       "  'layout': [1, 1]})"
      ]
     },
     "execution_count": 8,
     "metadata": {},
     "output_type": "execute_result"
    }
   ],
   "source": [
    "from baby.io import load_tiled_image\n",
    "img1, info1 = load_tiled_image(\"baby-phone-debugging/baby_phone_debugging_image_received_001.png\")\n",
    "# Check that the image received by the server is identical to the one sent\n",
    "assert np.allclose(img1, img[0])\n",
    "# metadata associated with the image (i.e., info1) includes the additional keyword arguments\n",
    "img1.shape, img1.dtype, info1"
   ]
  },
  {
   "cell_type": "markdown",
   "id": "f9bd71e4-7d66-4841-9981-1d8cde2d7244",
   "metadata": {},
   "source": [
    "## Retrieve results after processing"
   ]
  },
  {
   "cell_type": "markdown",
   "id": "3b1232ef-d152-47f3-875f-5e03edbfde36",
   "metadata": {},
   "source": [
    "### Default output without edge masks"
   ]
  },
  {
   "cell_type": "markdown",
   "id": "9572df69-3b4a-42e9-9556-795f7bdb33cd",
   "metadata": {},
   "source": [
    "By default the returned result does not include the edge masks and the outlines need to be recreated by the client from the radial spline representation (e.g., using `baby.segmentation.draw_radial`). This is how I did it for the Matlab client to reduce the amount of data being sent over the socket.\n",
    "\n",
    "See the next section for an example including edge mask output."
   ]
  },
  {
   "cell_type": "code",
   "execution_count": 9,
   "id": "5f0aea93-54c1-4a00-8c6b-183186b9e239",
   "metadata": {},
   "outputs": [
    {
     "data": {
      "text/plain": [
       "[{'centres': 7, 'angles': 7, 'radii': 7, 'cell_label': 7, 'ellipse_dims': 7},\n",
       " {'centres': 5, 'angles': 5, 'radii': 5, 'cell_label': 5, 'ellipse_dims': 5}]"
      ]
     },
     "metadata": {},
     "output_type": "display_data"
    },
    {
     "name": "stdout",
     "output_type": "stream",
     "text": [
      "\n",
      "centres:\n"
     ]
    },
    {
     "data": {
      "text/plain": [
       "array([[ 7.33, 18.77],\n",
       "       [10.32,  7.52],\n",
       "       [57.14,  9.21],\n",
       "       [61.97, 26.52],\n",
       "       [68.22, 50.2 ],\n",
       "       [70.12, 73.7 ],\n",
       "       [69.61, 13.72]])"
      ]
     },
     "metadata": {},
     "output_type": "display_data"
    },
    {
     "name": "stdout",
     "output_type": "stream",
     "text": [
      "\n",
      "radii:\n"
     ]
    },
    {
     "data": {
      "text/plain": [
       "[array([3.89, 4.46, 3.63, 4.06, 3.41, 3.85]),\n",
       " array([5.4 , 5.5 , 5.21, 5.33, 5.34, 5.67]),\n",
       " array([4.77, 4.95, 6.52, 5.06, 4.49, 6.44]),\n",
       " array([2.59, 3.08, 2.27, 2.51, 3.4 , 2.43]),\n",
       " array([7.19, 6.87, 8.12, 6.21, 7.83, 6.61]),\n",
       " array([5.65, 3.43, 5.72, 7.95, 5.24, 2.2 , 4.66, 3.6 ]),\n",
       " array([0.72, 2.51, 1.88, 2.08, 2.25, 1.41])]"
      ]
     },
     "metadata": {},
     "output_type": "display_data"
    }
   ],
   "source": [
    "r = requests.get(f'{baby_url}/segment?sessionid={session_id}')\n",
    "if not r.ok:\n",
    "    raise Exception(f\"{r.status_code}: {r.text}\")\n",
    "outputs = r.json()\n",
    "\n",
    "# outputs is a list of dicts for each image in batch\n",
    "display([{k: len(v) for k, v in output.items()} for output in outputs])\n",
    "\n",
    "# The outputs are (lists of) lists of numbers\n",
    "with np.printoptions(precision=2):\n",
    "    print('\\ncentres:')\n",
    "    display(np.array(outputs[0]['centres'])) # row, col\n",
    "    print('\\nradii:')\n",
    "    display([np.array(r) for r in outputs[0]['radii']])"
   ]
  },
  {
   "cell_type": "markdown",
   "id": "b288c6f8-3e59-4555-9206-a7d82396455c",
   "metadata": {},
   "source": [
    "### Process images to get output *with* edge masks "
   ]
  },
  {
   "cell_type": "markdown",
   "id": "76a5c443-cf01-462e-8b68-e43fd39ab75f",
   "metadata": {},
   "source": [
    "Process the images with the keyword argument `with_edgemasks` set to true:"
   ]
  },
  {
   "cell_type": "code",
   "execution_count": 10,
   "id": "42fe6af4-30c2-4ebd-b0e4-c018c9077a3b",
   "metadata": {},
   "outputs": [
    {
     "data": {
      "text/plain": [
       "{'status': 'processing 2 trap images'}"
      ]
     },
     "execution_count": 10,
     "metadata": {},
     "output_type": "execute_result"
    }
   ],
   "source": [
    "# Initiate a multipart-encoded request\n",
    "r = requests.post(f'{baby_url}/segment?sessionid={session_id}',\n",
    "                  files=[\n",
    "                      # The ordering of these parts must be fixed\n",
    "                      ('dims', ('', str(list(img.shape)))),\n",
    "                      ('bitdepth', ('', '8')),\n",
    "                      ('img', ('', img.tobytes(order='F'))),\n",
    "                      # Optionally specify additional parts that set\n",
    "                      # any kwargs accepted by BabyCrawler.step (ordering\n",
    "                      # is no longer fixed)\n",
    "                      ('refine_outlines', ('', 'true')),\n",
    "                      ('with_edgemasks', ('', 'true')),\n",
    "                  ])\n",
    "\n",
    "r.json() if r.ok else r.text"
   ]
  },
  {
   "cell_type": "markdown",
   "id": "3494d1a2-bdea-4ffb-ae4b-d9f7fe9ab472",
   "metadata": {},
   "source": [
    "Retrieve the processed results:"
   ]
  },
  {
   "cell_type": "code",
   "execution_count": 11,
   "id": "84812f5c-82ed-4656-a4c5-6be64aee2c3f",
   "metadata": {},
   "outputs": [
    {
     "data": {
      "text/plain": [
       "(2,\n",
       " dict_keys(['centres', 'angles', 'radii', 'edgemasks', 'cell_label', 'ellipse_dims']))"
      ]
     },
     "execution_count": 11,
     "metadata": {},
     "output_type": "execute_result"
    }
   ],
   "source": [
    "r = requests.get(f'{baby_url}/segment?sessionid={session_id}')\n",
    "if not r.ok:\n",
    "    raise Exception(f\"{r.status_code}: {r.text}\")\n",
    "outputs = r.json()\n",
    "len(outputs), outputs[0].keys()"
   ]
  },
  {
   "cell_type": "markdown",
   "id": "3bb2da11-86b7-4567-883c-780451c26805",
   "metadata": {},
   "source": [
    "The edgemasks are returned as coordinates using Matlab indexing (i.e., starting from 1). We can regenerate edge mask images from the coordinates using the following:"
   ]
  },
  {
   "cell_type": "code",
   "execution_count": 12,
   "id": "8d8da3c3-b5e4-4489-b93f-01ff3d779544",
   "metadata": {},
   "outputs": [],
   "source": [
    "all_edgemasks = []\n",
    "for output in outputs:\n",
    "    edge_coords_i = output['edgemasks']\n",
    "    edgemasks_i = []\n",
    "    for edge_coords in edge_coords_i:\n",
    "        edgemask = np.zeros(img.shape[1:3], dtype='bool')\n",
    "        edgemask[tuple(np.array(d) - 1 for d in edge_coords)] = True\n",
    "        edgemasks_i.append(edgemask)\n",
    "    all_edgemasks.append(np.stack(edgemasks_i))"
   ]
  },
  {
   "cell_type": "markdown",
   "id": "f31a2ecb-b841-4433-8648-8d390b5e2d50",
   "metadata": {},
   "source": [
    "Now we can display the outlines that BABY hallucinated from noise:"
   ]
  },
  {
   "cell_type": "code",
   "execution_count": 13,
   "id": "46c4c515-1960-4a0e-91cf-0d46d5b1c059",
   "metadata": {},
   "outputs": [
    {
     "data": {
      "image/png": "[encoded data removed]",
      "text/plain": [
       "<Figure size 1200x400 with 2 Axes>"
      ]
     },
     "metadata": {},
     "output_type": "display_data"
    }
   ],
   "source": [
    "from matplotlib import pyplot as plt\n",
    "from baby.visualise import plot_ims, colour_segstack\n",
    "_, axs = plot_ims(img.squeeze(), show=False)\n",
    "for ax, edgemasks in zip(axs, all_edgemasks):\n",
    "    ax.imshow(colour_segstack(edgemasks))\n",
    "plt.show()"
   ]
  }
 ],
 "metadata": {
  "kernelspec": {
   "display_name": "baby",
   "language": "python",
   "name": "baby"
  },
  "language_info": {
   "codemirror_mode": {
    "name": "ipython",
    "version": 3
   },
   "file_extension": ".py",
   "mimetype": "text/x-python",
   "name": "python",
   "nbconvert_exporter": "python",
   "pygments_lexer": "ipython3",
   "version": "3.10.13"
  }
 },
 "nbformat": 4,
 "nbformat_minor": 5
}
